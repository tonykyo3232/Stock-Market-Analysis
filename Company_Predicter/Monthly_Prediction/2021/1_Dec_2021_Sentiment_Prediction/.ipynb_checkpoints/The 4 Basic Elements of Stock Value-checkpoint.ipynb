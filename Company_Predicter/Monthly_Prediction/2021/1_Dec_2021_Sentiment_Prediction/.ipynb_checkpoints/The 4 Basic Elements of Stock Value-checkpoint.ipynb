{
 "cells": [
  {
   "cell_type": "markdown",
   "id": "5d1229db",
   "metadata": {},
   "source": [
    "## The 4 Basic Elements of Stock Value\n",
    "https://www.investopedia.com/articles/fundamental-analysis/09/elements-stock-value.asp\n",
    "yahoofinancials documentation: https://pypi.org/project/yahoofinancials/"
   ]
  },
  {
   "cell_type": "markdown",
   "id": "271f731d",
   "metadata": {},
   "source": [
    "### 1. Price-To-Book (P/B) Ratio"
   ]
  },
  {
   "cell_type": "markdown",
   "id": "a47548b6",
   "metadata": {},
   "source": [
    "Made for glass-half-empty people, the price-to-book (P/B) ratio represents the value of the company if it is torn up and sold today. In mathematical terms, the \"P/B ratio is calculated by dividing a company’s share price by the book value per share.\" This is useful to know because many companies in mature industries falter in terms of growth, but they can still be a good value based on their assets. The book value usually includes equipment, buildings, land, and anything else that can be sold, including stock holdings and bonds."
   ]
  },
  {
   "cell_type": "markdown",
   "id": "c5e0e021",
   "metadata": {},
   "source": [
    "With purely financial firms, the book value can fluctuate with the market as these stocks tend to have a portfolio of assets that goes up and down in value. Industrial companies tend to have a book value based more on physical assets, which depreciate year over year according to accounting rules."
   ]
  },
  {
   "cell_type": "markdown",
   "id": "efa4d902",
   "metadata": {},
   "source": [
    "In either case, a low P/B ratio can protect you—but only if it's accurate. This means an investor has to look deeper into the actual assets making up the ratio."
   ]
  },
  {
   "cell_type": "markdown",
   "id": "4cf6aa79",
   "metadata": {},
   "source": [
    "### 2. Price to Earnings Ratio"
   ]
  },
  {
   "cell_type": "markdown",
   "id": "5b037180",
   "metadata": {},
   "source": [
    "The price to earnings (P/E) ratio is possibly the most scrutinized of all the ratios. If sudden increases in a stock's price are the sizzle, then the P/E ratio is the steak. A stock can go up in value without significant earnings increases, but the P/E ratio is what decides if it can stay up. Without earnings to back up the price, a stock will eventually fall back down. An important point to note is that one should only compare P/E ratios among companies in similar industries and markets."
   ]
  },
  {
   "cell_type": "markdown",
   "id": "a0519b65",
   "metadata": {},
   "source": [
    "The reason for this is simple: A P/E ratio can be thought of as how long a stock will take to pay back your investment if there is no change in the business. A stock trading at 20 dollars per share with earnings of 2 dollars per share has a P/E ratio of 10, which is sometimes seen as meaning that you'll make your money back in 10 years if nothing changes."
   ]
  },
  {
   "cell_type": "markdown",
   "id": "4d604b0c",
   "metadata": {},
   "source": [
    "The reason stocks tend to have high P/E ratios is that investors try to predict which stocks will enjoy progressively larger earnings. An investor may buy a stock with a P/E ratio of 30 if they think it will double its earnings every year (shortening the payoff period significantly). If this fails to happen, the stock will fall back down to a more reasonable P/E ratio. If the stock does manage to double earnings, then it will likely continue to trade at a high P/E ratio."
   ]
  },
  {
   "cell_type": "markdown",
   "id": "4c111809",
   "metadata": {},
   "source": [
    "Introduction to the yfinance Python Package for Retrieving and Analyzing Market Data pt. 2\n",
    "https://www.youtube.com/watch?v=9nB__kJio-M"
   ]
  },
  {
   "cell_type": "code",
   "execution_count": 17,
   "id": "38eec903",
   "metadata": {},
   "outputs": [],
   "source": [
    "import yfinance as yf\n",
    "\n",
    "aapl = yf.Ticker(\"aapl\")\n",
    "stockinfo = aapl.info "
   ]
  },
  {
   "cell_type": "code",
   "execution_count": 11,
   "id": "e48a4246",
   "metadata": {},
   "outputs": [
    {
     "data": {
      "text/plain": [
       "{'zip': '95014',\n",
       " 'sector': 'Technology',\n",
       " 'fullTimeEmployees': 100000,\n",
       " 'longBusinessSummary': 'Apple Inc. designs, manufactures, and markets smartphones, personal computers, tablets, wearables, and accessories worldwide. It also sells various related services. In addition, the company offers iPhone, a line of smartphones; Mac, a line of personal computers; iPad, a line of multi-purpose tablets; AirPods Max, an over-ear wireless headphone; and wearables, home, and accessories comprising AirPods, Apple TV, Apple Watch, Beats products, HomePod, and iPod touch. Further, it provides AppleCare support services; cloud services store services; and operates various platforms, including the App Store that allow customers to discover and download applications and digital content, such as books, music, video, games, and podcasts. Additionally, the company offers various services, such as Apple Arcade, a game subscription service; Apple Music, which offers users a curated listening experience with on-demand radio stations; Apple News+, a subscription news and magazine service; Apple TV+, which offers exclusive original content; Apple Card, a co-branded credit card; and Apple Pay, a cashless payment service, as well as licenses its intellectual property. The company serves consumers, and small and mid-sized businesses; and the education, enterprise, and government markets. It distributes third-party applications for its products through the App Store. The company also sells its products through its retail and online stores, and direct sales force; and third-party cellular network carriers, wholesalers, retailers, and resellers. Apple Inc. was incorporated in 1977 and is headquartered in Cupertino, California.',\n",
       " 'city': 'Cupertino',\n",
       " 'phone': '408 996 1010',\n",
       " 'state': 'CA',\n",
       " 'country': 'United States',\n",
       " 'companyOfficers': [],\n",
       " 'website': 'https://www.apple.com',\n",
       " 'maxAge': 1,\n",
       " 'address1': 'One Apple Park Way',\n",
       " 'industry': 'Consumer Electronics',\n",
       " 'ebitdaMargins': 0.33890998,\n",
       " 'profitMargins': 0.26579002,\n",
       " 'grossMargins': 0.43019,\n",
       " 'operatingCashflow': 112241000448,\n",
       " 'revenueGrowth': 0.112,\n",
       " 'operatingMargins': 0.309,\n",
       " 'ebitda': 128217997312,\n",
       " 'targetLowPrice': 160,\n",
       " 'recommendationKey': 'buy',\n",
       " 'grossProfits': 152836000000,\n",
       " 'freeCashflow': 80153247744,\n",
       " 'targetMedianPrice': 197,\n",
       " 'currentPrice': 162.82,\n",
       " 'earningsGrowth': 0.25,\n",
       " 'currentRatio': 1.038,\n",
       " 'returnOnAssets': 0.19875,\n",
       " 'numberOfAnalystOpinions': 44,\n",
       " 'targetMeanPrice': 192.96,\n",
       " 'debtToEquity': 170.714,\n",
       " 'returnOnEquity': 1.45567,\n",
       " 'targetHighPrice': 215,\n",
       " 'totalCash': 63913000960,\n",
       " 'totalDebt': 122797998080,\n",
       " 'totalRevenue': 378323009536,\n",
       " 'totalCashPerShare': 3.916,\n",
       " 'financialCurrency': 'USD',\n",
       " 'revenuePerShare': 22.838,\n",
       " 'quickRatio': 0.875,\n",
       " 'recommendationMean': 1.8,\n",
       " 'exchange': 'NMS',\n",
       " 'shortName': 'Apple Inc.',\n",
       " 'longName': 'Apple Inc.',\n",
       " 'exchangeTimezoneName': 'America/New_York',\n",
       " 'exchangeTimezoneShortName': 'EST',\n",
       " 'isEsgPopulated': False,\n",
       " 'gmtOffSetMilliseconds': '-18000000',\n",
       " 'quoteType': 'EQUITY',\n",
       " 'symbol': 'AAPL',\n",
       " 'messageBoardId': 'finmb_24937',\n",
       " 'market': 'us_market',\n",
       " 'annualHoldingsTurnover': None,\n",
       " 'enterpriseToRevenue': 7.267,\n",
       " 'beta3Year': None,\n",
       " 'enterpriseToEbitda': 21.441,\n",
       " '52WeekChange': 0.290007,\n",
       " 'morningStarRiskRating': None,\n",
       " 'forwardEps': 6.56,\n",
       " 'revenueQuarterlyGrowth': None,\n",
       " 'sharesOutstanding': 16319399936,\n",
       " 'fundInceptionDate': None,\n",
       " 'annualReportExpenseRatio': None,\n",
       " 'totalAssets': None,\n",
       " 'bookValue': 4.402,\n",
       " 'sharesShort': 91388112,\n",
       " 'sharesPercentSharesOut': 0.0056,\n",
       " 'fundFamily': None,\n",
       " 'lastFiscalYearEnd': 1632528000,\n",
       " 'heldPercentInstitutions': 0.59516,\n",
       " 'netIncomeToCommon': 100554997760,\n",
       " 'trailingEps': 6.015,\n",
       " 'lastDividendValue': 0.22,\n",
       " 'SandP52WeekChange': 0.123744845,\n",
       " 'priceToBook': 36.987736,\n",
       " 'heldPercentInsiders': 0.0007,\n",
       " 'nextFiscalYearEnd': 1695600000,\n",
       " 'yield': None,\n",
       " 'mostRecentQuarter': 1640390400,\n",
       " 'shortRatio': 0.88,\n",
       " 'sharesShortPreviousMonthDate': 1640908800,\n",
       " 'floatShares': 16302795170,\n",
       " 'beta': 1.187468,\n",
       " 'enterpriseValue': 2749144760320,\n",
       " 'priceHint': 2,\n",
       " 'threeYearAverageReturn': None,\n",
       " 'lastSplitDate': 1598832000,\n",
       " 'lastSplitFactor': '4:1',\n",
       " 'legalType': None,\n",
       " 'lastDividendDate': 1643932800,\n",
       " 'morningStarOverallRating': None,\n",
       " 'earningsQuarterlyGrowth': 0.204,\n",
       " 'priceToSalesTrailing12Months': 7.0234294,\n",
       " 'dateShortInterest': 1643587200,\n",
       " 'pegRatio': 1.75,\n",
       " 'ytdReturn': None,\n",
       " 'forwardPE': 24.820124,\n",
       " 'lastCapGain': None,\n",
       " 'shortPercentOfFloat': 0.0056,\n",
       " 'sharesShortPriorMonth': 95908325,\n",
       " 'impliedSharesOutstanding': 0,\n",
       " 'category': None,\n",
       " 'fiveYearAverageReturn': None,\n",
       " 'previousClose': 164.85,\n",
       " 'regularMarketOpen': 163.06,\n",
       " 'twoHundredDayAverage': 151.8316,\n",
       " 'trailingAnnualDividendYield': 0.0052471943,\n",
       " 'payoutRatio': 0.1434,\n",
       " 'volume24Hr': None,\n",
       " 'regularMarketDayHigh': 165.418,\n",
       " 'navPrice': None,\n",
       " 'averageDailyVolume10Day': 87661990,\n",
       " 'regularMarketPreviousClose': 164.85,\n",
       " 'fiftyDayAverage': 171.4202,\n",
       " 'trailingAnnualDividendRate': 0.865,\n",
       " 'open': 163.06,\n",
       " 'toCurrency': None,\n",
       " 'averageVolume10days': 87661990,\n",
       " 'expireDate': None,\n",
       " 'algorithm': None,\n",
       " 'dividendRate': 0.88,\n",
       " 'exDividendDate': 1643932800,\n",
       " 'circulatingSupply': None,\n",
       " 'startDate': None,\n",
       " 'regularMarketDayLow': 162.7801,\n",
       " 'currency': 'USD',\n",
       " 'trailingPE': 27.068996,\n",
       " 'regularMarketVolume': 51291594,\n",
       " 'lastMarket': None,\n",
       " 'maxSupply': None,\n",
       " 'openInterest': None,\n",
       " 'marketCap': 2657124876288,\n",
       " 'volumeAllCurrencies': None,\n",
       " 'strikePrice': None,\n",
       " 'averageVolume': 102408446,\n",
       " 'dayLow': 162.7801,\n",
       " 'ask': 164.6,\n",
       " 'askSize': 800,\n",
       " 'volume': 51291594,\n",
       " 'fiftyTwoWeekHigh': 182.94,\n",
       " 'fromCurrency': None,\n",
       " 'fiveYearAvgDividendYield': 1.15,\n",
       " 'fiftyTwoWeekLow': 116.21,\n",
       " 'bid': 164.59,\n",
       " 'tradeable': False,\n",
       " 'dividendYield': 0.0053,\n",
       " 'bidSize': 900,\n",
       " 'dayHigh': 165.418,\n",
       " 'regularMarketPrice': 162.82,\n",
       " 'preMarketPrice': 162.97,\n",
       " 'logo_url': 'https://logo.clearbit.com/apple.com'}"
      ]
     },
     "execution_count": 11,
     "metadata": {},
     "output_type": "execute_result"
    }
   ],
   "source": [
    "stockinfo"
   ]
  },
  {
   "cell_type": "code",
   "execution_count": 12,
   "id": "9db44b61",
   "metadata": {},
   "outputs": [],
   "source": [
    "# get historical market data\n",
    "df = aapl.history(start='2021-12-01', end='2021-12-31')"
   ]
  },
  {
   "cell_type": "code",
   "execution_count": 13,
   "id": "7bcf88cf",
   "metadata": {},
   "outputs": [
    {
     "data": {
      "text/html": [
       "<div>\n",
       "<style scoped>\n",
       "    .dataframe tbody tr th:only-of-type {\n",
       "        vertical-align: middle;\n",
       "    }\n",
       "\n",
       "    .dataframe tbody tr th {\n",
       "        vertical-align: top;\n",
       "    }\n",
       "\n",
       "    .dataframe thead th {\n",
       "        text-align: right;\n",
       "    }\n",
       "</style>\n",
       "<table border=\"1\" class=\"dataframe\">\n",
       "  <thead>\n",
       "    <tr style=\"text-align: right;\">\n",
       "      <th></th>\n",
       "      <th>Open</th>\n",
       "      <th>High</th>\n",
       "      <th>Low</th>\n",
       "      <th>Close</th>\n",
       "      <th>Volume</th>\n",
       "      <th>Dividends</th>\n",
       "      <th>Stock Splits</th>\n",
       "    </tr>\n",
       "    <tr>\n",
       "      <th>Date</th>\n",
       "      <th></th>\n",
       "      <th></th>\n",
       "      <th></th>\n",
       "      <th></th>\n",
       "      <th></th>\n",
       "      <th></th>\n",
       "      <th></th>\n",
       "    </tr>\n",
       "  </thead>\n",
       "  <tbody>\n",
       "    <tr>\n",
       "      <th>2021-12-01</th>\n",
       "      <td>167.266892</td>\n",
       "      <td>170.083311</td>\n",
       "      <td>164.320648</td>\n",
       "      <td>164.560349</td>\n",
       "      <td>152052500</td>\n",
       "      <td>0</td>\n",
       "      <td>0</td>\n",
       "    </tr>\n",
       "    <tr>\n",
       "      <th>2021-12-02</th>\n",
       "      <td>158.538019</td>\n",
       "      <td>163.991063</td>\n",
       "      <td>157.599213</td>\n",
       "      <td>163.551620</td>\n",
       "      <td>136739200</td>\n",
       "      <td>0</td>\n",
       "      <td>0</td>\n",
       "    </tr>\n",
       "    <tr>\n",
       "      <th>2021-12-03</th>\n",
       "      <td>163.811298</td>\n",
       "      <td>164.750104</td>\n",
       "      <td>159.516766</td>\n",
       "      <td>161.634064</td>\n",
       "      <td>117938300</td>\n",
       "      <td>0</td>\n",
       "      <td>0</td>\n",
       "    </tr>\n",
       "    <tr>\n",
       "      <th>2021-12-06</th>\n",
       "      <td>164.080946</td>\n",
       "      <td>167.666390</td>\n",
       "      <td>164.070964</td>\n",
       "      <td>165.109650</td>\n",
       "      <td>107497000</td>\n",
       "      <td>0</td>\n",
       "      <td>0</td>\n",
       "    </tr>\n",
       "    <tr>\n",
       "      <th>2021-12-07</th>\n",
       "      <td>168.864855</td>\n",
       "      <td>171.361674</td>\n",
       "      <td>168.125791</td>\n",
       "      <td>170.962173</td>\n",
       "      <td>120405400</td>\n",
       "      <td>0</td>\n",
       "      <td>0</td>\n",
       "    </tr>\n",
       "    <tr>\n",
       "      <th>2021-12-08</th>\n",
       "      <td>171.910980</td>\n",
       "      <td>175.736109</td>\n",
       "      <td>170.482792</td>\n",
       "      <td>174.857224</td>\n",
       "      <td>116998900</td>\n",
       "      <td>0</td>\n",
       "      <td>0</td>\n",
       "    </tr>\n",
       "    <tr>\n",
       "      <th>2021-12-09</th>\n",
       "      <td>174.687436</td>\n",
       "      <td>176.525091</td>\n",
       "      <td>173.698690</td>\n",
       "      <td>174.337875</td>\n",
       "      <td>108923700</td>\n",
       "      <td>0</td>\n",
       "      <td>0</td>\n",
       "    </tr>\n",
       "    <tr>\n",
       "      <th>2021-12-10</th>\n",
       "      <td>174.987069</td>\n",
       "      <td>179.401443</td>\n",
       "      <td>174.467727</td>\n",
       "      <td>179.221664</td>\n",
       "      <td>115228100</td>\n",
       "      <td>0</td>\n",
       "      <td>0</td>\n",
       "    </tr>\n",
       "    <tr>\n",
       "      <th>2021-12-13</th>\n",
       "      <td>180.889532</td>\n",
       "      <td>181.898256</td>\n",
       "      <td>175.306648</td>\n",
       "      <td>175.516388</td>\n",
       "      <td>153237000</td>\n",
       "      <td>0</td>\n",
       "      <td>0</td>\n",
       "    </tr>\n",
       "    <tr>\n",
       "      <th>2021-12-14</th>\n",
       "      <td>175.027012</td>\n",
       "      <td>177.513850</td>\n",
       "      <td>171.990887</td>\n",
       "      <td>174.108185</td>\n",
       "      <td>139380400</td>\n",
       "      <td>0</td>\n",
       "      <td>0</td>\n",
       "    </tr>\n",
       "    <tr>\n",
       "      <th>2021-12-15</th>\n",
       "      <td>174.887183</td>\n",
       "      <td>179.271596</td>\n",
       "      <td>172.090743</td>\n",
       "      <td>179.071854</td>\n",
       "      <td>131063300</td>\n",
       "      <td>0</td>\n",
       "      <td>0</td>\n",
       "    </tr>\n",
       "    <tr>\n",
       "      <th>2021-12-16</th>\n",
       "      <td>179.051874</td>\n",
       "      <td>180.909508</td>\n",
       "      <td>170.532729</td>\n",
       "      <td>172.040802</td>\n",
       "      <td>150185800</td>\n",
       "      <td>0</td>\n",
       "      <td>0</td>\n",
       "    </tr>\n",
       "    <tr>\n",
       "      <th>2021-12-17</th>\n",
       "      <td>169.713774</td>\n",
       "      <td>173.249278</td>\n",
       "      <td>169.474089</td>\n",
       "      <td>170.922241</td>\n",
       "      <td>195432700</td>\n",
       "      <td>0</td>\n",
       "      <td>0</td>\n",
       "    </tr>\n",
       "    <tr>\n",
       "      <th>2021-12-20</th>\n",
       "      <td>168.065866</td>\n",
       "      <td>170.362942</td>\n",
       "      <td>167.246917</td>\n",
       "      <td>169.533997</td>\n",
       "      <td>107499100</td>\n",
       "      <td>0</td>\n",
       "      <td>0</td>\n",
       "    </tr>\n",
       "    <tr>\n",
       "      <th>2021-12-21</th>\n",
       "      <td>171.341694</td>\n",
       "      <td>172.979606</td>\n",
       "      <td>168.904796</td>\n",
       "      <td>172.769882</td>\n",
       "      <td>91185900</td>\n",
       "      <td>0</td>\n",
       "      <td>0</td>\n",
       "    </tr>\n",
       "    <tr>\n",
       "      <th>2021-12-22</th>\n",
       "      <td>172.819806</td>\n",
       "      <td>175.636225</td>\n",
       "      <td>171.930939</td>\n",
       "      <td>175.416504</td>\n",
       "      <td>92135300</td>\n",
       "      <td>0</td>\n",
       "      <td>0</td>\n",
       "    </tr>\n",
       "    <tr>\n",
       "      <th>2021-12-23</th>\n",
       "      <td>175.626249</td>\n",
       "      <td>176.624977</td>\n",
       "      <td>175.046985</td>\n",
       "      <td>176.055695</td>\n",
       "      <td>68356600</td>\n",
       "      <td>0</td>\n",
       "      <td>0</td>\n",
       "    </tr>\n",
       "    <tr>\n",
       "      <th>2021-12-27</th>\n",
       "      <td>176.864657</td>\n",
       "      <td>180.190422</td>\n",
       "      <td>176.844694</td>\n",
       "      <td>180.100540</td>\n",
       "      <td>74919600</td>\n",
       "      <td>0</td>\n",
       "      <td>0</td>\n",
       "    </tr>\n",
       "    <tr>\n",
       "      <th>2021-12-28</th>\n",
       "      <td>179.930762</td>\n",
       "      <td>181.099272</td>\n",
       "      <td>178.302832</td>\n",
       "      <td>179.061859</td>\n",
       "      <td>79144300</td>\n",
       "      <td>0</td>\n",
       "      <td>0</td>\n",
       "    </tr>\n",
       "    <tr>\n",
       "      <th>2021-12-29</th>\n",
       "      <td>179.101809</td>\n",
       "      <td>180.400158</td>\n",
       "      <td>177.913321</td>\n",
       "      <td>179.151749</td>\n",
       "      <td>62348900</td>\n",
       "      <td>0</td>\n",
       "      <td>0</td>\n",
       "    </tr>\n",
       "    <tr>\n",
       "      <th>2021-12-30</th>\n",
       "      <td>179.241640</td>\n",
       "      <td>180.340246</td>\n",
       "      <td>177.863391</td>\n",
       "      <td>177.973251</td>\n",
       "      <td>59773000</td>\n",
       "      <td>0</td>\n",
       "      <td>0</td>\n",
       "    </tr>\n",
       "  </tbody>\n",
       "</table>\n",
       "</div>"
      ],
      "text/plain": [
       "                  Open        High         Low       Close     Volume  \\\n",
       "Date                                                                    \n",
       "2021-12-01  167.266892  170.083311  164.320648  164.560349  152052500   \n",
       "2021-12-02  158.538019  163.991063  157.599213  163.551620  136739200   \n",
       "2021-12-03  163.811298  164.750104  159.516766  161.634064  117938300   \n",
       "2021-12-06  164.080946  167.666390  164.070964  165.109650  107497000   \n",
       "2021-12-07  168.864855  171.361674  168.125791  170.962173  120405400   \n",
       "2021-12-08  171.910980  175.736109  170.482792  174.857224  116998900   \n",
       "2021-12-09  174.687436  176.525091  173.698690  174.337875  108923700   \n",
       "2021-12-10  174.987069  179.401443  174.467727  179.221664  115228100   \n",
       "2021-12-13  180.889532  181.898256  175.306648  175.516388  153237000   \n",
       "2021-12-14  175.027012  177.513850  171.990887  174.108185  139380400   \n",
       "2021-12-15  174.887183  179.271596  172.090743  179.071854  131063300   \n",
       "2021-12-16  179.051874  180.909508  170.532729  172.040802  150185800   \n",
       "2021-12-17  169.713774  173.249278  169.474089  170.922241  195432700   \n",
       "2021-12-20  168.065866  170.362942  167.246917  169.533997  107499100   \n",
       "2021-12-21  171.341694  172.979606  168.904796  172.769882   91185900   \n",
       "2021-12-22  172.819806  175.636225  171.930939  175.416504   92135300   \n",
       "2021-12-23  175.626249  176.624977  175.046985  176.055695   68356600   \n",
       "2021-12-27  176.864657  180.190422  176.844694  180.100540   74919600   \n",
       "2021-12-28  179.930762  181.099272  178.302832  179.061859   79144300   \n",
       "2021-12-29  179.101809  180.400158  177.913321  179.151749   62348900   \n",
       "2021-12-30  179.241640  180.340246  177.863391  177.973251   59773000   \n",
       "\n",
       "            Dividends  Stock Splits  \n",
       "Date                                 \n",
       "2021-12-01          0             0  \n",
       "2021-12-02          0             0  \n",
       "2021-12-03          0             0  \n",
       "2021-12-06          0             0  \n",
       "2021-12-07          0             0  \n",
       "2021-12-08          0             0  \n",
       "2021-12-09          0             0  \n",
       "2021-12-10          0             0  \n",
       "2021-12-13          0             0  \n",
       "2021-12-14          0             0  \n",
       "2021-12-15          0             0  \n",
       "2021-12-16          0             0  \n",
       "2021-12-17          0             0  \n",
       "2021-12-20          0             0  \n",
       "2021-12-21          0             0  \n",
       "2021-12-22          0             0  \n",
       "2021-12-23          0             0  \n",
       "2021-12-27          0             0  \n",
       "2021-12-28          0             0  \n",
       "2021-12-29          0             0  \n",
       "2021-12-30          0             0  "
      ]
     },
     "execution_count": 13,
     "metadata": {},
     "output_type": "execute_result"
    }
   ],
   "source": [
    "df"
   ]
  },
  {
   "cell_type": "code",
   "execution_count": 15,
   "id": "716d5774",
   "metadata": {},
   "outputs": [
    {
     "data": {
      "text/plain": [
       "Date\n",
       "2021-12-01    0\n",
       "2021-12-02    0\n",
       "2021-12-03    0\n",
       "2021-12-06    0\n",
       "2021-12-07    0\n",
       "2021-12-08    0\n",
       "2021-12-09    0\n",
       "2021-12-10    0\n",
       "2021-12-13    0\n",
       "2021-12-14    0\n",
       "2021-12-15    0\n",
       "2021-12-16    0\n",
       "2021-12-17    0\n",
       "2021-12-20    0\n",
       "2021-12-21    0\n",
       "2021-12-22    0\n",
       "2021-12-23    0\n",
       "2021-12-27    0\n",
       "2021-12-28    0\n",
       "2021-12-29    0\n",
       "2021-12-30    0\n",
       "Name: Dividends, dtype: int64"
      ]
     },
     "execution_count": 15,
     "metadata": {},
     "output_type": "execute_result"
    }
   ],
   "source": [
    "df['Dividends']"
   ]
  },
  {
   "cell_type": "code",
   "execution_count": 2,
   "id": "135150c7",
   "metadata": {},
   "outputs": [
    {
     "data": {
      "text/plain": [
       "25.129574"
      ]
     },
     "execution_count": 2,
     "metadata": {},
     "output_type": "execute_result"
    }
   ],
   "source": [
    "aapl.info['forwardPE']"
   ]
  },
  {
   "cell_type": "code",
   "execution_count": 18,
   "id": "dc22944c",
   "metadata": {},
   "outputs": [
    {
     "data": {
      "text/plain": [
       "27.117208"
      ]
     },
     "execution_count": 18,
     "metadata": {},
     "output_type": "execute_result"
    }
   ],
   "source": [
    "aapl.info['trailingPE']"
   ]
  },
  {
   "cell_type": "code",
   "execution_count": 19,
   "id": "81bec9f7",
   "metadata": {},
   "outputs": [
    {
     "data": {
      "text/plain": [
       "\n",
       "2021-09-25    365817000000.0\n",
       "2020-09-26    274515000000.0\n",
       "2019-09-28    260174000000.0\n",
       "2018-09-29    265595000000.0\n",
       "Name: Total Revenue, dtype: object"
      ]
     },
     "execution_count": 19,
     "metadata": {},
     "output_type": "execute_result"
    }
   ],
   "source": [
    "appl.financials.loc['Total Revenue']"
   ]
  },
  {
   "cell_type": "code",
   "execution_count": 37,
   "id": "99212e97",
   "metadata": {},
   "outputs": [],
   "source": [
    "from yahoofinancials import YahooFinancials\n",
    "\n",
    "yahoo_financials = YahooFinancials('AAPL')"
   ]
  },
  {
   "cell_type": "code",
   "execution_count": 38,
   "id": "9eec12eb",
   "metadata": {},
   "outputs": [
    {
     "name": "stdout",
     "output_type": "stream",
     "text": [
      "{'AAPL': {'eventsData': {}, 'firstTradeDate': {'formatted_date': '1980-12-12', 'date': 345479400}, 'currency': 'USD', 'instrumentType': 'EQUITY', 'timeZone': {'gmtOffset': -18000}, 'prices': [{'date': 1638162000, 'high': 170.3000030517578, 'low': 157.8000030517578, 'open': 159.99000549316406, 'close': 161.83999633789062, 'volume': 580778100, 'adjclose': 161.63406372070312, 'formatted_date': '2021-11-29'}, {'date': 1638766800, 'high': 179.6300048828125, 'low': 164.27999877929688, 'open': 164.2899932861328, 'close': 179.4499969482422, 'volume': 569053100, 'adjclose': 179.22166442871094, 'formatted_date': '2021-12-06'}, {'date': 1639371600, 'high': 182.1300048828125, 'low': 169.69000244140625, 'open': 181.1199951171875, 'close': 171.13999938964844, 'volume': 769299200, 'adjclose': 170.9222412109375, 'formatted_date': '2021-12-13'}, {'date': 1639976400, 'high': 176.85000610351562, 'low': 167.4600067138672, 'open': 168.27999877929688, 'close': 176.27999877929688, 'volume': 359176900, 'adjclose': 176.05569458007812, 'formatted_date': '2021-12-20'}, {'date': 1640581200, 'high': 181.3300018310547, 'low': 177.07000732421875, 'open': 177.08999633789062, 'close': 178.1999969482422, 'volume': 276185800, 'adjclose': 177.97325134277344, 'formatted_date': '2021-12-27'}]}}\n"
     ]
    }
   ],
   "source": [
    "print(yahoo_financials.get_historical_price_data('2021-12-01', '2021-12-31', \"weekly\"))"
   ]
  },
  {
   "cell_type": "code",
   "execution_count": 39,
   "id": "315dabd2",
   "metadata": {},
   "outputs": [
    {
     "name": "stdout",
     "output_type": "stream",
     "text": [
      "{'cashflowStatementHistoryQuarterly': {'AAPL': [{'2021-12-25': {'investments': -12929000000, 'changeToLiabilities': 20275000000, 'totalCashflowsFromInvestingActivities': -16106000000, 'netBorrowings': -1000000000, 'totalCashFromFinancingActivities': -28159000000, 'changeToOperatingActivities': -10497000000, 'netIncome': 34630000000, 'changeInCash': 2701000000, 'repurchaseOfStock': -23366000000, 'totalCashFromOperatingActivities': 46966000000, 'depreciation': 2697000000, 'otherCashflowsFromInvestingActivities': -374000000, 'dividendsPaid': -3732000000, 'changeToInventory': 681000000, 'changeToAccountReceivables': -3934000000, 'otherCashflowsFromFinancingActivities': -61000000, 'changeToNetincome': 3114000000, 'capitalExpenditures': -2803000000}}, {'2021-09-25': {'investments': 4608000000, 'changeToLiabilities': 14050000000, 'totalCashflowsFromInvestingActivities': 835000000, 'netBorrowings': 3220000000, 'totalCashFromFinancingActivities': -20382000000, 'changeToOperatingActivities': -5602000000, 'issuanceOfStock': 544000000, 'netIncome': 20551000000, 'changeInCash': 653000000, 'repurchaseOfStock': -20449000000, 'totalCashFromOperatingActivities': 20200000000, 'depreciation': 2989000000, 'otherCashflowsFromInvestingActivities': -530000000, 'dividendsPaid': -3640000000, 'changeToInventory': -1429000000, 'changeToAccountReceivables': -8809000000, 'otherCashflowsFromFinancingActivities': -57000000, 'changeToNetincome': -1550000000, 'capitalExpenditures': -3223000000}}, {'2021-06-26': {'investments': 5747000000, 'changeToLiabilities': 307000000, 'totalCashflowsFromInvestingActivities': 3572000000, 'netBorrowings': 3220000000, 'totalCashFromFinancingActivities': -29396000000, 'changeToOperatingActivities': -6048000000, 'issuanceOfStock': 544000000, 'netIncome': 21744000000, 'changeInCash': -4730000000, 'repurchaseOfStock': -25595000000, 'totalCashFromOperatingActivities': 21094000000, 'depreciation': 2832000000, 'otherCashflowsFromInvestingActivities': -78000000, 'dividendsPaid': -3767000000, 'changeToInventory': 13000000, 'changeToAccountReceivables': 1031000000, 'otherCashflowsFromFinancingActivities': -34000000, 'changeToNetincome': 1215000000, 'capitalExpenditures': -2093000000}}, {'2021-03-27': {'investments': -7895000000, 'changeToLiabilities': -23366000000, 'totalCashflowsFromInvestingActivities': -10368000000, 'netBorrowings': 10423000000, 'totalCashFromFinancingActivities': -11326000000, 'changeToOperatingActivities': 11265000000, 'issuanceOfStock': 561000000, 'netIncome': 23630000000, 'changeInCash': 2287000000, 'repurchaseOfStock': -18847000000, 'totalCashFromOperatingActivities': 23981000000, 'depreciation': 2797000000, 'otherCashflowsFromInvestingActivities': -204000000, 'dividendsPaid': -3447000000, 'changeToInventory': -276000000, 'changeToAccountReceivables': 8598000000, 'otherCashflowsFromFinancingActivities': -16000000, 'changeToNetincome': 1333000000, 'capitalExpenditures': -2269000000}}]}}\n"
     ]
    }
   ],
   "source": [
    "yahoo_financials = YahooFinancials('AAPL')\n",
    "result = yahoo_financials.get_financial_stmts('quarterly', 'cash')\n",
    "print(result)"
   ]
  },
  {
   "cell_type": "code",
   "execution_count": 40,
   "id": "ed9b63f0",
   "metadata": {},
   "outputs": [
    {
     "data": {
      "text/plain": [
       "{'AAPL': [{'2021-12-25': {'investments': -12929000000,\n",
       "    'changeToLiabilities': 20275000000,\n",
       "    'totalCashflowsFromInvestingActivities': -16106000000,\n",
       "    'netBorrowings': -1000000000,\n",
       "    'totalCashFromFinancingActivities': -28159000000,\n",
       "    'changeToOperatingActivities': -10497000000,\n",
       "    'netIncome': 34630000000,\n",
       "    'changeInCash': 2701000000,\n",
       "    'repurchaseOfStock': -23366000000,\n",
       "    'totalCashFromOperatingActivities': 46966000000,\n",
       "    'depreciation': 2697000000,\n",
       "    'otherCashflowsFromInvestingActivities': -374000000,\n",
       "    'dividendsPaid': -3732000000,\n",
       "    'changeToInventory': 681000000,\n",
       "    'changeToAccountReceivables': -3934000000,\n",
       "    'otherCashflowsFromFinancingActivities': -61000000,\n",
       "    'changeToNetincome': 3114000000,\n",
       "    'capitalExpenditures': -2803000000}},\n",
       "  {'2021-09-25': {'investments': 4608000000,\n",
       "    'changeToLiabilities': 14050000000,\n",
       "    'totalCashflowsFromInvestingActivities': 835000000,\n",
       "    'netBorrowings': 3220000000,\n",
       "    'totalCashFromFinancingActivities': -20382000000,\n",
       "    'changeToOperatingActivities': -5602000000,\n",
       "    'issuanceOfStock': 544000000,\n",
       "    'netIncome': 20551000000,\n",
       "    'changeInCash': 653000000,\n",
       "    'repurchaseOfStock': -20449000000,\n",
       "    'totalCashFromOperatingActivities': 20200000000,\n",
       "    'depreciation': 2989000000,\n",
       "    'otherCashflowsFromInvestingActivities': -530000000,\n",
       "    'dividendsPaid': -3640000000,\n",
       "    'changeToInventory': -1429000000,\n",
       "    'changeToAccountReceivables': -8809000000,\n",
       "    'otherCashflowsFromFinancingActivities': -57000000,\n",
       "    'changeToNetincome': -1550000000,\n",
       "    'capitalExpenditures': -3223000000}},\n",
       "  {'2021-06-26': {'investments': 5747000000,\n",
       "    'changeToLiabilities': 307000000,\n",
       "    'totalCashflowsFromInvestingActivities': 3572000000,\n",
       "    'netBorrowings': 3220000000,\n",
       "    'totalCashFromFinancingActivities': -29396000000,\n",
       "    'changeToOperatingActivities': -6048000000,\n",
       "    'issuanceOfStock': 544000000,\n",
       "    'netIncome': 21744000000,\n",
       "    'changeInCash': -4730000000,\n",
       "    'repurchaseOfStock': -25595000000,\n",
       "    'totalCashFromOperatingActivities': 21094000000,\n",
       "    'depreciation': 2832000000,\n",
       "    'otherCashflowsFromInvestingActivities': -78000000,\n",
       "    'dividendsPaid': -3767000000,\n",
       "    'changeToInventory': 13000000,\n",
       "    'changeToAccountReceivables': 1031000000,\n",
       "    'otherCashflowsFromFinancingActivities': -34000000,\n",
       "    'changeToNetincome': 1215000000,\n",
       "    'capitalExpenditures': -2093000000}},\n",
       "  {'2021-03-27': {'investments': -7895000000,\n",
       "    'changeToLiabilities': -23366000000,\n",
       "    'totalCashflowsFromInvestingActivities': -10368000000,\n",
       "    'netBorrowings': 10423000000,\n",
       "    'totalCashFromFinancingActivities': -11326000000,\n",
       "    'changeToOperatingActivities': 11265000000,\n",
       "    'issuanceOfStock': 561000000,\n",
       "    'netIncome': 23630000000,\n",
       "    'changeInCash': 2287000000,\n",
       "    'repurchaseOfStock': -18847000000,\n",
       "    'totalCashFromOperatingActivities': 23981000000,\n",
       "    'depreciation': 2797000000,\n",
       "    'otherCashflowsFromInvestingActivities': -204000000,\n",
       "    'dividendsPaid': -3447000000,\n",
       "    'changeToInventory': -276000000,\n",
       "    'changeToAccountReceivables': 8598000000,\n",
       "    'otherCashflowsFromFinancingActivities': -16000000,\n",
       "    'changeToNetincome': 1333000000,\n",
       "    'capitalExpenditures': -2269000000}}]}"
      ]
     },
     "execution_count": 40,
     "metadata": {},
     "output_type": "execute_result"
    }
   ],
   "source": [
    "result['cashflowStatementHistoryQuarterly']"
   ]
  },
  {
   "cell_type": "code",
   "execution_count": 41,
   "id": "bf470c8e",
   "metadata": {},
   "outputs": [
    {
     "data": {
      "text/plain": [
       "34630000000"
      ]
     },
     "execution_count": 41,
     "metadata": {},
     "output_type": "execute_result"
    }
   ],
   "source": [
    "result['cashflowStatementHistoryQuarterly']['AAPL'][0]['2021-12-25']['netIncome']"
   ]
  },
  {
   "cell_type": "code",
   "execution_count": 45,
   "id": "dae903b4",
   "metadata": {},
   "outputs": [
    {
     "data": {
      "text/plain": [
       "{'AAPL': {'previousClose': 164.85,\n",
       "  'regularMarketOpen': 163.06,\n",
       "  'twoHundredDayAverage': 151.8316,\n",
       "  'trailingAnnualDividendYield': 0.0052471943,\n",
       "  'payoutRatio': 0.1434,\n",
       "  'volume24Hr': None,\n",
       "  'regularMarketDayHigh': 165.418,\n",
       "  'navPrice': None,\n",
       "  'averageDailyVolume10Day': 87661990,\n",
       "  'totalAssets': None,\n",
       "  'regularMarketPreviousClose': 164.85,\n",
       "  'fiftyDayAverage': 171.4202,\n",
       "  'trailingAnnualDividendRate': 0.865,\n",
       "  'open': 163.06,\n",
       "  'toCurrency': None,\n",
       "  'averageVolume10days': 87661990,\n",
       "  'expireDate': '-',\n",
       "  'yield': None,\n",
       "  'algorithm': None,\n",
       "  'dividendRate': 0.88,\n",
       "  'exDividendDate': '2022-02-04',\n",
       "  'beta': 1.187468,\n",
       "  'circulatingSupply': None,\n",
       "  'startDate': '-',\n",
       "  'regularMarketDayLow': 162.43,\n",
       "  'priceHint': 2,\n",
       "  'currency': 'USD',\n",
       "  'trailingPE': 27.19458,\n",
       "  'regularMarketVolume': 58023790,\n",
       "  'lastMarket': None,\n",
       "  'maxSupply': None,\n",
       "  'openInterest': None,\n",
       "  'marketCap': 2669452197888,\n",
       "  'volumeAllCurrencies': None,\n",
       "  'strikePrice': None,\n",
       "  'averageVolume': 102408446,\n",
       "  'priceToSalesTrailing12Months': 7.056013,\n",
       "  'dayLow': 162.43,\n",
       "  'ask': 162.94,\n",
       "  'ytdReturn': None,\n",
       "  'askSize': 800,\n",
       "  'volume': 58023790,\n",
       "  'fiftyTwoWeekHigh': 182.94,\n",
       "  'forwardPE': 24.935274,\n",
       "  'maxAge': 1,\n",
       "  'fromCurrency': None,\n",
       "  'fiveYearAvgDividendYield': 1.15,\n",
       "  'fiftyTwoWeekLow': 116.21,\n",
       "  'bid': 162.92,\n",
       "  'tradeable': False,\n",
       "  'dividendYield': 0.0053,\n",
       "  'bidSize': 900,\n",
       "  'dayHigh': 165.418}}"
      ]
     },
     "execution_count": 45,
     "metadata": {},
     "output_type": "execute_result"
    }
   ],
   "source": [
    "from yahoofinancials import YahooFinancials\n",
    "\n",
    "yahoo_financials = YahooFinancials('AAPL')\n",
    "yahoo_financials.get_summary_data()"
   ]
  },
  {
   "cell_type": "code",
   "execution_count": 46,
   "id": "7824dfb3",
   "metadata": {},
   "outputs": [
    {
     "data": {
      "text/plain": [
       "152836000000"
      ]
     },
     "execution_count": 46,
     "metadata": {},
     "output_type": "execute_result"
    }
   ],
   "source": [
    "yahoo_financials.get_gross_profit()"
   ]
  },
  {
   "cell_type": "code",
   "execution_count": 49,
   "id": "88a307a6",
   "metadata": {},
   "outputs": [
    {
     "data": {
      "text/plain": [
       "94680000000"
      ]
     },
     "execution_count": 49,
     "metadata": {},
     "output_type": "execute_result"
    }
   ],
   "source": [
    "yahoo_financials.get_net_income()"
   ]
  },
  {
   "cell_type": "code",
   "execution_count": 47,
   "id": "92c21bc5",
   "metadata": {},
   "outputs": [
    {
     "data": {
      "text/plain": [
       "0.0053"
      ]
     },
     "execution_count": 47,
     "metadata": {},
     "output_type": "execute_result"
    }
   ],
   "source": [
    "yahoo_financials.get_dividend_yield()"
   ]
  },
  {
   "cell_type": "code",
   "execution_count": 48,
   "id": "6454d7f4",
   "metadata": {},
   "outputs": [
    {
     "data": {
      "text/plain": [
       "0.88"
      ]
     },
     "execution_count": 48,
     "metadata": {},
     "output_type": "execute_result"
    }
   ],
   "source": [
    "yahoo_financials.get_dividend_rate()"
   ]
  },
  {
   "cell_type": "code",
   "execution_count": 50,
   "id": "26d79c52",
   "metadata": {},
   "outputs": [
    {
     "data": {
      "text/plain": [
       "27.19458"
      ]
     },
     "execution_count": 50,
     "metadata": {},
     "output_type": "execute_result"
    }
   ],
   "source": [
    "yahoo_financials.get_pe_ratio()"
   ]
  },
  {
   "cell_type": "code",
   "execution_count": 51,
   "id": "60e6b8a5",
   "metadata": {},
   "outputs": [
    {
     "data": {
      "text/plain": [
       "6.015000047803643"
      ]
     },
     "execution_count": 51,
     "metadata": {},
     "output_type": "execute_result"
    }
   ],
   "source": [
    "yahoo_financials.get_earnings_per_share()"
   ]
  },
  {
   "cell_type": "code",
   "execution_count": 52,
   "id": "cf5b71e1",
   "metadata": {},
   "outputs": [
    {
     "data": {
      "text/plain": [
       "{'AAPL': None}"
      ]
     },
     "execution_count": 52,
     "metadata": {},
     "output_type": "execute_result"
    }
   ],
   "source": [
    "yahoo_financials.get_stock_exchange('2021-12-01', '2021-12-31')"
   ]
  },
  {
   "cell_type": "markdown",
   "id": "ad9dc6de",
   "metadata": {},
   "source": [
    "### 3. Price-to-Earnings Growth (PEG) Ratio"
   ]
  },
  {
   "cell_type": "markdown",
   "id": "f8380ac0",
   "metadata": {},
   "source": [
    "Because the P/E ratio isn't enough in and of itself, many investors use the price to earnings growth (PEG) ratio. Instead of merely looking at the price and earnings, the PEG ratio incorporates the historical growth rate of the company's earnings. This ratio also tells you how company A's stock stacks up against company B's stock. The PEG ratio is calculated by taking the P/E ratio of a company and dividing it by the year-over-year growth rate of its earnings. The lower the value of your PEG ratio, the better the deal you're getting for the stock's future estimated earnings."
   ]
  },
  {
   "cell_type": "markdown",
   "id": "34e71dc5",
   "metadata": {},
   "source": [
    "By comparing two stocks using the PEG, you can see how much you're paying for growth in each case. A PEG of 1 means you're breaking even if growth continues as it has in the past. A PEG of 2 means you're paying twice as much for projected growth when compared to a stock with a PEG of 1. This is speculative because there is no guarantee that growth will continue as it has in the past."
   ]
  },
  {
   "cell_type": "markdown",
   "id": "3956a375",
   "metadata": {},
   "source": [
    "The P/E ratio is a snapshot of where a company is and the PEG ratio is a graph plotting where it has been. Armed with this information, an investor has to decide whether it is likely to continue in that direction."
   ]
  },
  {
   "cell_type": "markdown",
   "id": "afa41e5f",
   "metadata": {},
   "source": [
    "### 4. Dividend Yield"
   ]
  },
  {
   "cell_type": "markdown",
   "id": "6068652c",
   "metadata": {},
   "source": [
    "It's always nice to have a backup when a stock's growth falters. This is why dividend-paying stocks are attractive to many investors—even when prices drop, you get a paycheck. The dividend yield shows how much of a payday you're getting for your money. By dividing the stock's annual dividend by the stock's price, you get a percentage. You can think of that percentage as the interest on your money, with the additional chance at growth through the appreciation of the stock."
   ]
  },
  {
   "cell_type": "markdown",
   "id": "1a992c71",
   "metadata": {},
   "source": [
    "Although simple on paper, there are some things to watch for with the dividend yield. Inconsistent dividends or suspended payments in the past mean that the dividend yield can't be counted on. Like water, dividends can ebb and flow, so knowing which way the tide is going —like whether dividend payments have increased year over year—is essential to making the decision to buy. Dividends also vary by industry, with utilities and some banks typically paying a lot whereas tech firms, which often invest almost all their earnings back into the company to fuel growth, paying very little or no dividends."
   ]
  },
  {
   "cell_type": "code",
   "execution_count": 4,
   "id": "4449ef9b",
   "metadata": {},
   "outputs": [],
   "source": [
    "import yfinance as yf\n",
    "\n",
    "appl = yf.Ticker(\"aapl\")\n",
    "stockinfo = appl.info "
   ]
  },
  {
   "cell_type": "code",
   "execution_count": 5,
   "id": "e6f6ffa1",
   "metadata": {},
   "outputs": [
    {
     "data": {
      "text/plain": [
       "0.88"
      ]
     },
     "execution_count": 5,
     "metadata": {},
     "output_type": "execute_result"
    }
   ],
   "source": [
    "appl.info['dividendRate']"
   ]
  },
  {
   "cell_type": "code",
   "execution_count": 6,
   "id": "38bacbfa",
   "metadata": {},
   "outputs": [
    {
     "data": {
      "text/plain": [
       "Date\n",
       "1987-05-11    0.000536\n",
       "1987-08-10    0.000536\n",
       "1987-11-17    0.000714\n",
       "1988-02-12    0.000714\n",
       "1988-05-16    0.000714\n",
       "                ...   \n",
       "2021-02-05    0.205000\n",
       "2021-05-07    0.220000\n",
       "2021-08-06    0.220000\n",
       "2021-11-05    0.220000\n",
       "2022-02-04    0.220000\n",
       "Name: Dividends, Length: 74, dtype: float64"
      ]
     },
     "execution_count": 6,
     "metadata": {},
     "output_type": "execute_result"
    }
   ],
   "source": [
    "appl.dividends"
   ]
  },
  {
   "cell_type": "markdown",
   "id": "54dfa42d",
   "metadata": {},
   "source": [
    "### The Bottom Line"
   ]
  },
  {
   "cell_type": "markdown",
   "id": "75f95f4d",
   "metadata": {},
   "source": [
    "The P/E ratio, P/B ratio, PEG ratio, and dividend yields are too narrowly focused to stand alone as a single measure of a stock. By combining these methods of valuation, you can get a better view of a stock's worth. Any one of these can be influenced by creative accounting—as can more complex ratios like cash flow."
   ]
  },
  {
   "cell_type": "markdown",
   "id": "5ad06c06",
   "metadata": {},
   "source": [
    "As you add more tools to your valuation methods(https://www.investopedia.com/articles/fundamental-analysis/11/choosing-valuation-methods.asp), discrepancies get easier to spot. These four main ratios may be overshadowed by thousands of customized metrics, but they will always be useful stepping stones for finding out whether a stock is worth buying."
   ]
  }
 ],
 "metadata": {
  "kernelspec": {
   "display_name": "Python 3",
   "language": "python",
   "name": "python3"
  },
  "language_info": {
   "codemirror_mode": {
    "name": "ipython",
    "version": 3
   },
   "file_extension": ".py",
   "mimetype": "text/x-python",
   "name": "python",
   "nbconvert_exporter": "python",
   "pygments_lexer": "ipython3",
   "version": "3.8.8"
  }
 },
 "nbformat": 4,
 "nbformat_minor": 5
}
